{
 "cells": [
  {
   "cell_type": "code",
   "execution_count": 47,
   "metadata": {},
   "outputs": [],
   "source": [
    "from datetime import datetime, timedelta\n",
    "from dateutil.relativedelta import relativedelta\n",
    "from pytz import timezone"
   ]
  },
  {
   "cell_type": "code",
   "execution_count": 9,
   "metadata": {},
   "outputs": [],
   "source": [
    "data = datetime(2022, 4, 20, 1,2,2,)"
   ]
  },
  {
   "cell_type": "code",
   "execution_count": 10,
   "metadata": {},
   "outputs": [
    {
     "name": "stdout",
     "output_type": "stream",
     "text": [
      "2022-04-20 01:02:02\n"
     ]
    }
   ],
   "source": [
    "print(data)"
   ]
  },
  {
   "cell_type": "code",
   "execution_count": 13,
   "metadata": {},
   "outputs": [],
   "source": [
    "data_str = '2022-04-20 07:00:23'\n",
    "data_str_formato='%Y-%m-%d %H:%M:%S'"
   ]
  },
  {
   "cell_type": "code",
   "execution_count": 16,
   "metadata": {},
   "outputs": [
    {
     "name": "stdout",
     "output_type": "stream",
     "text": [
      "2022-04-20 07:00:23\n"
     ]
    }
   ],
   "source": [
    "data = datetime.strptime(data_str, data_str_formato)\n",
    "print(data)"
   ]
  },
  {
   "cell_type": "code",
   "execution_count": 29,
   "metadata": {},
   "outputs": [
    {
     "name": "stdout",
     "output_type": "stream",
     "text": [
      "2023-05-07 20:04:22\n"
     ]
    }
   ],
   "source": [
    "print(datetime.now().strftime(data_str_formato))"
   ]
  },
  {
   "cell_type": "code",
   "execution_count": 49,
   "metadata": {},
   "outputs": [
    {
     "name": "stdout",
     "output_type": "stream",
     "text": [
      "<class 'datetime.datetime'>\n",
      "1683502961.098306\n",
      "2023-05-07 20:42:41.098306\n",
      "1597104000\n",
      "2020-08-10 21:00:00\n"
     ]
    }
   ],
   "source": [
    "data = datetime.now()\n",
    "print(type(data))\n",
    "data2 = data.timestamp()\n",
    "print(data2)\n",
    "print(datetime.fromtimestamp(data2))\n",
    "timestamp_ms = 1597104000000\n",
    "timestamp_s = timestamp_ms // 1000  # converter milissegundos para segundos\n",
    "print(timestamp_s)\n",
    "dt = datetime.fromtimestamp(timestamp_s)\n",
    "print(dt, )\n"
   ]
  },
  {
   "cell_type": "code",
   "execution_count": 48,
   "metadata": {},
   "outputs": [
    {
     "name": "stdout",
     "output_type": "stream",
     "text": [
      "13019 82190 1124923790.0\n",
      "2022-12-22 08:20:20\n",
      "2022-12-12 08:20:26\n"
     ]
    }
   ],
   "source": [
    "fmt = '%d/%m/%Y %H:%M:%S'\n",
    "data_inicio = datetime.strptime('20/04/1987 09:30:30', fmt)\n",
    "data_fim = datetime.strptime('12/12/2022 08:20:20', fmt)\n",
    "delta = data_fim - data_inicio\n",
    "print(delta.days, delta.seconds, delta.total_seconds())\n",
    "delta = timedelta(days=10)\n",
    "print(data_fim + delta)\n",
    "print(data_fim + relativedelta(seconds=6))"
   ]
  }
 ],
 "metadata": {
  "kernelspec": {
   "display_name": ".venv",
   "language": "python",
   "name": "python3"
  },
  "language_info": {
   "codemirror_mode": {
    "name": "ipython",
    "version": 3
   },
   "file_extension": ".py",
   "mimetype": "text/x-python",
   "name": "python",
   "nbconvert_exporter": "python",
   "pygments_lexer": "ipython3",
   "version": "3.8.3"
  },
  "orig_nbformat": 4
 },
 "nbformat": 4,
 "nbformat_minor": 2
}
