{
 "cells": [
  {
   "cell_type": "code",
   "execution_count": 1,
   "metadata": {},
   "outputs": [],
   "source": [
    "from service.coin_market import CoinMarket\n",
    "from service.ohlc_service import OHLCService\n",
    "import pandas as pd\n",
    "import plotly.graph_objects as go"
   ]
  },
  {
   "cell_type": "code",
   "execution_count": 5,
   "metadata": {},
   "outputs": [
    {
     "data": {
      "text/plain": [
       "[<entidades.ohlc.OHLC at 0x14cf39cadc0>,\n",
       " <entidades.ohlc.OHLC at 0x14cf39cadf0>,\n",
       " <entidades.ohlc.OHLC at 0x14cf39caee0>,\n",
       " <entidades.ohlc.OHLC at 0x14cf39cae50>,\n",
       " <entidades.ohlc.OHLC at 0x14cf39cabe0>,\n",
       " <entidades.ohlc.OHLC at 0x14cf39cac40>,\n",
       " <entidades.ohlc.OHLC at 0x14cf39ca940>,\n",
       " <entidades.ohlc.OHLC at 0x14cf39caf40>,\n",
       " <entidades.ohlc.OHLC at 0x14cf39cab50>,\n",
       " <entidades.ohlc.OHLC at 0x14cf39cab20>,\n",
       " <entidades.ohlc.OHLC at 0x14cf39ca9a0>,\n",
       " <entidades.ohlc.OHLC at 0x14cf39ca8e0>,\n",
       " <entidades.ohlc.OHLC at 0x14cf39caca0>,\n",
       " <entidades.ohlc.OHLC at 0x14cf39caf70>,\n",
       " <entidades.ohlc.OHLC at 0x14cf39cafa0>,\n",
       " <entidades.ohlc.OHLC at 0x14cf39cad30>,\n",
       " <entidades.ohlc.OHLC at 0x14cf39caaf0>,\n",
       " <entidades.ohlc.OHLC at 0x14cf39caac0>,\n",
       " <entidades.ohlc.OHLC at 0x14cf39caa60>,\n",
       " <entidades.ohlc.OHLC at 0x14cf39ca880>,\n",
       " <entidades.ohlc.OHLC at 0x14cf39ce070>,\n",
       " <entidades.ohlc.OHLC at 0x14cf39ce160>,\n",
       " <entidades.ohlc.OHLC at 0x14cf39ce370>,\n",
       " <entidades.ohlc.OHLC at 0x14cf39ce220>,\n",
       " <entidades.ohlc.OHLC at 0x14cf39ce2b0>,\n",
       " <entidades.ohlc.OHLC at 0x14cf39ce250>,\n",
       " <entidades.ohlc.OHLC at 0x14cf39ce3d0>,\n",
       " <entidades.ohlc.OHLC at 0x14cf39ce1f0>,\n",
       " <entidades.ohlc.OHLC at 0x14cf39ce2e0>,\n",
       " <entidades.ohlc.OHLC at 0x14cf39ce0d0>,\n",
       " <entidades.ohlc.OHLC at 0x14cf39ce340>,\n",
       " <entidades.ohlc.OHLC at 0x14cf39ce430>,\n",
       " <entidades.ohlc.OHLC at 0x14cf39ce4c0>,\n",
       " <entidades.ohlc.OHLC at 0x14cf39ce520>,\n",
       " <entidades.ohlc.OHLC at 0x14cf39ce580>,\n",
       " <entidades.ohlc.OHLC at 0x14cf39ce5e0>,\n",
       " <entidades.ohlc.OHLC at 0x14cf39ce640>,\n",
       " <entidades.ohlc.OHLC at 0x14cf39ce6a0>,\n",
       " <entidades.ohlc.OHLC at 0x14cf39ce700>,\n",
       " <entidades.ohlc.OHLC at 0x14cf39ce760>,\n",
       " <entidades.ohlc.OHLC at 0x14cf39ce7c0>,\n",
       " <entidades.ohlc.OHLC at 0x14cf39ce820>,\n",
       " <entidades.ohlc.OHLC at 0x14cf39ce880>]"
      ]
     },
     "execution_count": 5,
     "metadata": {},
     "output_type": "execute_result"
    }
   ],
   "source": [
    "cm = CoinMarket()\n",
    "criptomoeda = cm.obter_mercado('bitcoin','7', 'minute') # 1/7/14/30/90/180/365/max\n",
    "criptomoeda.mostrar_ohlc"
   ]
  },
  {
   "cell_type": "code",
   "execution_count": 6,
   "metadata": {},
   "outputs": [],
   "source": [
    "atributos = [dir(ohlc) for ohlc in criptomoeda.mostrar_ohlc][0][-5:]\n",
    "df = [{atributo: getattr(ohlc, atributo) for atributo in atributos} for ohlc in criptomoeda.mostrar_ohlc]\n",
    "df_final = pd.DataFrame(df)\n"
   ]
  },
  {
   "cell_type": "code",
   "execution_count": 7,
   "metadata": {},
   "outputs": [
    {
     "data": {
      "application/vnd.plotly.v1+json": {
       "config": {
        "plotlyServerURL": "https://plot.ly"
       },
       "data": [
        {
         "close": [
          136108.62,
          136037.07,
          135909.47,
          134538.37,
          132958.5,
          132849.02,
          132111.48,
          129538.04,
          130011.25,
          130251.95,
          129609.84,
          131433.75,
          131722.78,
          131677.73,
          132096.57,
          132073.61,
          132755.45,
          132472.41,
          131932.61,
          132273.63,
          132117.7,
          132474,
          132451.3,
          132591.36,
          133824.6,
          135101.66,
          134821.14,
          134747.57,
          134267.01,
          133516.62,
          132460.22,
          132445.03,
          132214.39,
          132567.88,
          133435.53,
          133356.02,
          133738.74,
          133417.05,
          132787.83,
          132837.59,
          133817.3,
          135052.61,
          135284.55
         ],
         "high": [
          136421.92,
          136037.07,
          136149,
          136301.06,
          135015.84,
          133355.37,
          133375.74,
          131567.97,
          130065.29,
          130424.09,
          129791.88,
          131723.45,
          132237.8,
          132055.65,
          132096.57,
          132129.3,
          132755.45,
          132472.41,
          131932.61,
          132273.63,
          132161.02,
          132474,
          133421.15,
          132591.36,
          133969.61,
          135101.66,
          135000.99,
          134962.6,
          135094.04,
          134095.13,
          133130.3,
          132611.2,
          133055.9,
          132975.77,
          133637.16,
          133531.65,
          134182.35,
          133828.71,
          132787.83,
          132837.59,
          133817.3,
          135238.51,
          135284.55
         ],
         "low": [
          136108.62,
          135811.01,
          135580.36,
          134538.37,
          132958.5,
          132668.75,
          132111.48,
          129538.04,
          129595.12,
          130130.11,
          129585.91,
          130339.41,
          131722.78,
          131677.73,
          131886.38,
          131977.87,
          131958.37,
          132151.55,
          131515.4,
          132009.53,
          132117.7,
          131921.17,
          132451.3,
          132254.32,
          131758.04,
          134051.63,
          134699.49,
          134296.46,
          134267.01,
          133516.62,
          131921.11,
          132375.2,
          132214.39,
          132508.12,
          132953.7,
          133340.26,
          133516.52,
          133417.05,
          132606.29,
          131756.78,
          132465.34,
          134958.63,
          135284.55
         ],
         "open": [
          136247.97,
          135811.01,
          136149,
          135547.28,
          135015.84,
          132668.75,
          133256.42,
          131210.89,
          129790.42,
          130133.69,
          129791.88,
          130339.41,
          131856.57,
          132055.65,
          131886.38,
          131999.34,
          131958.37,
          132151.55,
          131879.58,
          132087.51,
          132152.55,
          131921.17,
          133421.15,
          132254.32,
          132557.51,
          134051.63,
          134938.86,
          134714.17,
          134617.58,
          134095.13,
          133130.3,
          132611.2,
          133055.9,
          132508.12,
          132953.7,
          133372.21,
          133516.52,
          133777.83,
          132652.99,
          131756.78,
          132465.34,
          135238.51,
          135284.55
         ],
         "type": "candlestick",
         "x": [
          "11-05-2023 01:00:00",
          "11-05-2023 05:00:00",
          "11-05-2023 09:00:00",
          "11-05-2023 13:00:00",
          "11-05-2023 17:00:00",
          "11-05-2023 21:00:00",
          "12-05-2023 01:00:00",
          "12-05-2023 05:00:00",
          "12-05-2023 09:00:00",
          "12-05-2023 13:00:00",
          "12-05-2023 17:00:00",
          "12-05-2023 21:00:00",
          "13-05-2023 01:00:00",
          "13-05-2023 05:00:00",
          "13-05-2023 09:00:00",
          "13-05-2023 13:00:00",
          "13-05-2023 17:00:00",
          "13-05-2023 21:00:00",
          "14-05-2023 01:00:00",
          "14-05-2023 05:00:00",
          "14-05-2023 09:00:00",
          "14-05-2023 13:00:00",
          "14-05-2023 17:00:00",
          "14-05-2023 21:00:00",
          "15-05-2023 01:00:00",
          "15-05-2023 05:00:00",
          "15-05-2023 09:00:00",
          "15-05-2023 13:00:00",
          "15-05-2023 17:00:00",
          "15-05-2023 21:00:00",
          "16-05-2023 01:00:00",
          "16-05-2023 05:00:00",
          "16-05-2023 09:00:00",
          "16-05-2023 13:00:00",
          "16-05-2023 17:00:00",
          "16-05-2023 21:00:00",
          "17-05-2023 01:00:00",
          "17-05-2023 05:00:00",
          "17-05-2023 09:00:00",
          "17-05-2023 13:00:00",
          "17-05-2023 17:00:00",
          "17-05-2023 21:00:00",
          "18-05-2023 01:00:00"
         ]
        }
       ],
       "layout": {
        "template": {
         "data": {
          "bar": [
           {
            "error_x": {
             "color": "#2a3f5f"
            },
            "error_y": {
             "color": "#2a3f5f"
            },
            "marker": {
             "line": {
              "color": "#E5ECF6",
              "width": 0.5
             },
             "pattern": {
              "fillmode": "overlay",
              "size": 10,
              "solidity": 0.2
             }
            },
            "type": "bar"
           }
          ],
          "barpolar": [
           {
            "marker": {
             "line": {
              "color": "#E5ECF6",
              "width": 0.5
             },
             "pattern": {
              "fillmode": "overlay",
              "size": 10,
              "solidity": 0.2
             }
            },
            "type": "barpolar"
           }
          ],
          "carpet": [
           {
            "aaxis": {
             "endlinecolor": "#2a3f5f",
             "gridcolor": "white",
             "linecolor": "white",
             "minorgridcolor": "white",
             "startlinecolor": "#2a3f5f"
            },
            "baxis": {
             "endlinecolor": "#2a3f5f",
             "gridcolor": "white",
             "linecolor": "white",
             "minorgridcolor": "white",
             "startlinecolor": "#2a3f5f"
            },
            "type": "carpet"
           }
          ],
          "choropleth": [
           {
            "colorbar": {
             "outlinewidth": 0,
             "ticks": ""
            },
            "type": "choropleth"
           }
          ],
          "contour": [
           {
            "colorbar": {
             "outlinewidth": 0,
             "ticks": ""
            },
            "colorscale": [
             [
              0,
              "#0d0887"
             ],
             [
              0.1111111111111111,
              "#46039f"
             ],
             [
              0.2222222222222222,
              "#7201a8"
             ],
             [
              0.3333333333333333,
              "#9c179e"
             ],
             [
              0.4444444444444444,
              "#bd3786"
             ],
             [
              0.5555555555555556,
              "#d8576b"
             ],
             [
              0.6666666666666666,
              "#ed7953"
             ],
             [
              0.7777777777777778,
              "#fb9f3a"
             ],
             [
              0.8888888888888888,
              "#fdca26"
             ],
             [
              1,
              "#f0f921"
             ]
            ],
            "type": "contour"
           }
          ],
          "contourcarpet": [
           {
            "colorbar": {
             "outlinewidth": 0,
             "ticks": ""
            },
            "type": "contourcarpet"
           }
          ],
          "heatmap": [
           {
            "colorbar": {
             "outlinewidth": 0,
             "ticks": ""
            },
            "colorscale": [
             [
              0,
              "#0d0887"
             ],
             [
              0.1111111111111111,
              "#46039f"
             ],
             [
              0.2222222222222222,
              "#7201a8"
             ],
             [
              0.3333333333333333,
              "#9c179e"
             ],
             [
              0.4444444444444444,
              "#bd3786"
             ],
             [
              0.5555555555555556,
              "#d8576b"
             ],
             [
              0.6666666666666666,
              "#ed7953"
             ],
             [
              0.7777777777777778,
              "#fb9f3a"
             ],
             [
              0.8888888888888888,
              "#fdca26"
             ],
             [
              1,
              "#f0f921"
             ]
            ],
            "type": "heatmap"
           }
          ],
          "heatmapgl": [
           {
            "colorbar": {
             "outlinewidth": 0,
             "ticks": ""
            },
            "colorscale": [
             [
              0,
              "#0d0887"
             ],
             [
              0.1111111111111111,
              "#46039f"
             ],
             [
              0.2222222222222222,
              "#7201a8"
             ],
             [
              0.3333333333333333,
              "#9c179e"
             ],
             [
              0.4444444444444444,
              "#bd3786"
             ],
             [
              0.5555555555555556,
              "#d8576b"
             ],
             [
              0.6666666666666666,
              "#ed7953"
             ],
             [
              0.7777777777777778,
              "#fb9f3a"
             ],
             [
              0.8888888888888888,
              "#fdca26"
             ],
             [
              1,
              "#f0f921"
             ]
            ],
            "type": "heatmapgl"
           }
          ],
          "histogram": [
           {
            "marker": {
             "pattern": {
              "fillmode": "overlay",
              "size": 10,
              "solidity": 0.2
             }
            },
            "type": "histogram"
           }
          ],
          "histogram2d": [
           {
            "colorbar": {
             "outlinewidth": 0,
             "ticks": ""
            },
            "colorscale": [
             [
              0,
              "#0d0887"
             ],
             [
              0.1111111111111111,
              "#46039f"
             ],
             [
              0.2222222222222222,
              "#7201a8"
             ],
             [
              0.3333333333333333,
              "#9c179e"
             ],
             [
              0.4444444444444444,
              "#bd3786"
             ],
             [
              0.5555555555555556,
              "#d8576b"
             ],
             [
              0.6666666666666666,
              "#ed7953"
             ],
             [
              0.7777777777777778,
              "#fb9f3a"
             ],
             [
              0.8888888888888888,
              "#fdca26"
             ],
             [
              1,
              "#f0f921"
             ]
            ],
            "type": "histogram2d"
           }
          ],
          "histogram2dcontour": [
           {
            "colorbar": {
             "outlinewidth": 0,
             "ticks": ""
            },
            "colorscale": [
             [
              0,
              "#0d0887"
             ],
             [
              0.1111111111111111,
              "#46039f"
             ],
             [
              0.2222222222222222,
              "#7201a8"
             ],
             [
              0.3333333333333333,
              "#9c179e"
             ],
             [
              0.4444444444444444,
              "#bd3786"
             ],
             [
              0.5555555555555556,
              "#d8576b"
             ],
             [
              0.6666666666666666,
              "#ed7953"
             ],
             [
              0.7777777777777778,
              "#fb9f3a"
             ],
             [
              0.8888888888888888,
              "#fdca26"
             ],
             [
              1,
              "#f0f921"
             ]
            ],
            "type": "histogram2dcontour"
           }
          ],
          "mesh3d": [
           {
            "colorbar": {
             "outlinewidth": 0,
             "ticks": ""
            },
            "type": "mesh3d"
           }
          ],
          "parcoords": [
           {
            "line": {
             "colorbar": {
              "outlinewidth": 0,
              "ticks": ""
             }
            },
            "type": "parcoords"
           }
          ],
          "pie": [
           {
            "automargin": true,
            "type": "pie"
           }
          ],
          "scatter": [
           {
            "fillpattern": {
             "fillmode": "overlay",
             "size": 10,
             "solidity": 0.2
            },
            "type": "scatter"
           }
          ],
          "scatter3d": [
           {
            "line": {
             "colorbar": {
              "outlinewidth": 0,
              "ticks": ""
             }
            },
            "marker": {
             "colorbar": {
              "outlinewidth": 0,
              "ticks": ""
             }
            },
            "type": "scatter3d"
           }
          ],
          "scattercarpet": [
           {
            "marker": {
             "colorbar": {
              "outlinewidth": 0,
              "ticks": ""
             }
            },
            "type": "scattercarpet"
           }
          ],
          "scattergeo": [
           {
            "marker": {
             "colorbar": {
              "outlinewidth": 0,
              "ticks": ""
             }
            },
            "type": "scattergeo"
           }
          ],
          "scattergl": [
           {
            "marker": {
             "colorbar": {
              "outlinewidth": 0,
              "ticks": ""
             }
            },
            "type": "scattergl"
           }
          ],
          "scattermapbox": [
           {
            "marker": {
             "colorbar": {
              "outlinewidth": 0,
              "ticks": ""
             }
            },
            "type": "scattermapbox"
           }
          ],
          "scatterpolar": [
           {
            "marker": {
             "colorbar": {
              "outlinewidth": 0,
              "ticks": ""
             }
            },
            "type": "scatterpolar"
           }
          ],
          "scatterpolargl": [
           {
            "marker": {
             "colorbar": {
              "outlinewidth": 0,
              "ticks": ""
             }
            },
            "type": "scatterpolargl"
           }
          ],
          "scatterternary": [
           {
            "marker": {
             "colorbar": {
              "outlinewidth": 0,
              "ticks": ""
             }
            },
            "type": "scatterternary"
           }
          ],
          "surface": [
           {
            "colorbar": {
             "outlinewidth": 0,
             "ticks": ""
            },
            "colorscale": [
             [
              0,
              "#0d0887"
             ],
             [
              0.1111111111111111,
              "#46039f"
             ],
             [
              0.2222222222222222,
              "#7201a8"
             ],
             [
              0.3333333333333333,
              "#9c179e"
             ],
             [
              0.4444444444444444,
              "#bd3786"
             ],
             [
              0.5555555555555556,
              "#d8576b"
             ],
             [
              0.6666666666666666,
              "#ed7953"
             ],
             [
              0.7777777777777778,
              "#fb9f3a"
             ],
             [
              0.8888888888888888,
              "#fdca26"
             ],
             [
              1,
              "#f0f921"
             ]
            ],
            "type": "surface"
           }
          ],
          "table": [
           {
            "cells": {
             "fill": {
              "color": "#EBF0F8"
             },
             "line": {
              "color": "white"
             }
            },
            "header": {
             "fill": {
              "color": "#C8D4E3"
             },
             "line": {
              "color": "white"
             }
            },
            "type": "table"
           }
          ]
         },
         "layout": {
          "annotationdefaults": {
           "arrowcolor": "#2a3f5f",
           "arrowhead": 0,
           "arrowwidth": 1
          },
          "autotypenumbers": "strict",
          "coloraxis": {
           "colorbar": {
            "outlinewidth": 0,
            "ticks": ""
           }
          },
          "colorscale": {
           "diverging": [
            [
             0,
             "#8e0152"
            ],
            [
             0.1,
             "#c51b7d"
            ],
            [
             0.2,
             "#de77ae"
            ],
            [
             0.3,
             "#f1b6da"
            ],
            [
             0.4,
             "#fde0ef"
            ],
            [
             0.5,
             "#f7f7f7"
            ],
            [
             0.6,
             "#e6f5d0"
            ],
            [
             0.7,
             "#b8e186"
            ],
            [
             0.8,
             "#7fbc41"
            ],
            [
             0.9,
             "#4d9221"
            ],
            [
             1,
             "#276419"
            ]
           ],
           "sequential": [
            [
             0,
             "#0d0887"
            ],
            [
             0.1111111111111111,
             "#46039f"
            ],
            [
             0.2222222222222222,
             "#7201a8"
            ],
            [
             0.3333333333333333,
             "#9c179e"
            ],
            [
             0.4444444444444444,
             "#bd3786"
            ],
            [
             0.5555555555555556,
             "#d8576b"
            ],
            [
             0.6666666666666666,
             "#ed7953"
            ],
            [
             0.7777777777777778,
             "#fb9f3a"
            ],
            [
             0.8888888888888888,
             "#fdca26"
            ],
            [
             1,
             "#f0f921"
            ]
           ],
           "sequentialminus": [
            [
             0,
             "#0d0887"
            ],
            [
             0.1111111111111111,
             "#46039f"
            ],
            [
             0.2222222222222222,
             "#7201a8"
            ],
            [
             0.3333333333333333,
             "#9c179e"
            ],
            [
             0.4444444444444444,
             "#bd3786"
            ],
            [
             0.5555555555555556,
             "#d8576b"
            ],
            [
             0.6666666666666666,
             "#ed7953"
            ],
            [
             0.7777777777777778,
             "#fb9f3a"
            ],
            [
             0.8888888888888888,
             "#fdca26"
            ],
            [
             1,
             "#f0f921"
            ]
           ]
          },
          "colorway": [
           "#636efa",
           "#EF553B",
           "#00cc96",
           "#ab63fa",
           "#FFA15A",
           "#19d3f3",
           "#FF6692",
           "#B6E880",
           "#FF97FF",
           "#FECB52"
          ],
          "font": {
           "color": "#2a3f5f"
          },
          "geo": {
           "bgcolor": "white",
           "lakecolor": "white",
           "landcolor": "#E5ECF6",
           "showlakes": true,
           "showland": true,
           "subunitcolor": "white"
          },
          "hoverlabel": {
           "align": "left"
          },
          "hovermode": "closest",
          "mapbox": {
           "style": "light"
          },
          "paper_bgcolor": "white",
          "plot_bgcolor": "#E5ECF6",
          "polar": {
           "angularaxis": {
            "gridcolor": "white",
            "linecolor": "white",
            "ticks": ""
           },
           "bgcolor": "#E5ECF6",
           "radialaxis": {
            "gridcolor": "white",
            "linecolor": "white",
            "ticks": ""
           }
          },
          "scene": {
           "xaxis": {
            "backgroundcolor": "#E5ECF6",
            "gridcolor": "white",
            "gridwidth": 2,
            "linecolor": "white",
            "showbackground": true,
            "ticks": "",
            "zerolinecolor": "white"
           },
           "yaxis": {
            "backgroundcolor": "#E5ECF6",
            "gridcolor": "white",
            "gridwidth": 2,
            "linecolor": "white",
            "showbackground": true,
            "ticks": "",
            "zerolinecolor": "white"
           },
           "zaxis": {
            "backgroundcolor": "#E5ECF6",
            "gridcolor": "white",
            "gridwidth": 2,
            "linecolor": "white",
            "showbackground": true,
            "ticks": "",
            "zerolinecolor": "white"
           }
          },
          "shapedefaults": {
           "line": {
            "color": "#2a3f5f"
           }
          },
          "ternary": {
           "aaxis": {
            "gridcolor": "white",
            "linecolor": "white",
            "ticks": ""
           },
           "baxis": {
            "gridcolor": "white",
            "linecolor": "white",
            "ticks": ""
           },
           "bgcolor": "#E5ECF6",
           "caxis": {
            "gridcolor": "white",
            "linecolor": "white",
            "ticks": ""
           }
          },
          "title": {
           "x": 0.05
          },
          "xaxis": {
           "automargin": true,
           "gridcolor": "white",
           "linecolor": "white",
           "ticks": "",
           "title": {
            "standoff": 15
           },
           "zerolinecolor": "white",
           "zerolinewidth": 2
          },
          "yaxis": {
           "automargin": true,
           "gridcolor": "white",
           "linecolor": "white",
           "ticks": "",
           "title": {
            "standoff": 15
           },
           "zerolinecolor": "white",
           "zerolinewidth": 2
          }
         }
        },
        "xaxis": {
         "rangeslider": {
          "visible": false
         }
        }
       }
      }
     },
     "metadata": {},
     "output_type": "display_data"
    }
   ],
   "source": [
    "fig = go.Figure(\n",
    "    data=[\n",
    "        go.Candlestick(\n",
    "            x=df_final['data_hora'],\n",
    "            open=df_final['open'],\n",
    "            high=df_final['high'],\n",
    "            low=df_final['low'],\n",
    "            close=df_final['close']\n",
    "        )\n",
    "    ]\n",
    ")\n",
    "fig.update_layout(xaxis_rangeslider_visible=False)\n",
    "\n",
    "fig.show()"
   ]
  },
  {
   "cell_type": "code",
   "execution_count": 8,
   "metadata": {},
   "outputs": [],
   "source": [
    "atributos = [dir(transacao) for transacao in criptomoeda.listar_transacoes][0][-2:]\n",
    "df = [{atributo: getattr(transacao, atributo) for atributo in atributos} for transacao in criptomoeda.listar_transacoes]\n",
    "df_final = pd.DataFrame(df)"
   ]
  },
  {
   "cell_type": "code",
   "execution_count": 12,
   "metadata": {},
   "outputs": [
    {
     "name": "stdout",
     "output_type": "stream",
     "text": [
      "2023-05-17 21:17:45.565736\n",
      "1684358265\n"
     ]
    }
   ],
   "source": [
    "import calendar\n",
    "import datetime\n",
    "  \n",
    "date = datetime.datetime.now()\n",
    "print(date)\n",
    "utc_time = calendar.timegm(date.utctimetuple())\n",
    "print(utc_time)"
   ]
  }
 ],
 "metadata": {
  "kernelspec": {
   "display_name": ".venv",
   "language": "python",
   "name": "python3"
  },
  "language_info": {
   "codemirror_mode": {
    "name": "ipython",
    "version": 3
   },
   "file_extension": ".py",
   "mimetype": "text/x-python",
   "name": "python",
   "nbconvert_exporter": "python",
   "pygments_lexer": "ipython3",
   "version": "3.8.3"
  },
  "orig_nbformat": 4
 },
 "nbformat": 4,
 "nbformat_minor": 2
}
