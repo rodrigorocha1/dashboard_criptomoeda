{
 "cells": [
  {
   "cell_type": "code",
   "execution_count": 1,
   "metadata": {},
   "outputs": [],
   "source": [
    "from service.coin_market import CoinMarket\n",
    "from service.ohlc_service import OHLCService\n",
    "import pandas as pd\n",
    "import plotly.graph_objects as go\n",
    "import plotly.express as px\n",
    "import calendar\n",
    "import datetime"
   ]
  },
  {
   "attachments": {},
   "cell_type": "markdown",
   "metadata": {},
   "source": [
    "# Função para converter para timestamp"
   ]
  },
  {
   "cell_type": "code",
   "execution_count": 2,
   "metadata": {},
   "outputs": [],
   "source": [
    "def converter_date(date: datetime.datetime):\n",
    "    utc_time = calendar.timegm(date.utctimetuple())\n",
    "    return utc_time"
   ]
  },
  {
   "cell_type": "code",
   "execution_count": 3,
   "metadata": {},
   "outputs": [
    {
     "data": {
      "text/plain": [
       "[<entidades.ohlc.OHLC at 0x1eb5802adc0>,\n",
       " <entidades.ohlc.OHLC at 0x1eb5802ae20>,\n",
       " <entidades.ohlc.OHLC at 0x1eb5802adf0>,\n",
       " <entidades.ohlc.OHLC at 0x1eb5802ad30>,\n",
       " <entidades.ohlc.OHLC at 0x1eb5802ad90>,\n",
       " <entidades.ohlc.OHLC at 0x1eb5802afa0>,\n",
       " <entidades.ohlc.OHLC at 0x1eb5802af70>,\n",
       " <entidades.ohlc.OHLC at 0x1eb5802af10>,\n",
       " <entidades.ohlc.OHLC at 0x1eb5802c7f0>,\n",
       " <entidades.ohlc.OHLC at 0x1eb5802c5e0>,\n",
       " <entidades.ohlc.OHLC at 0x1eb5802c910>,\n",
       " <entidades.ohlc.OHLC at 0x1eb5802c1f0>,\n",
       " <entidades.ohlc.OHLC at 0x1eb5802c820>,\n",
       " <entidades.ohlc.OHLC at 0x1eb5802c8e0>,\n",
       " <entidades.ohlc.OHLC at 0x1eb5802c640>,\n",
       " <entidades.ohlc.OHLC at 0x1eb5802c100>,\n",
       " <entidades.ohlc.OHLC at 0x1eb5802c610>,\n",
       " <entidades.ohlc.OHLC at 0x1eb5802c3a0>,\n",
       " <entidades.ohlc.OHLC at 0x1eb5802c370>,\n",
       " <entidades.ohlc.OHLC at 0x1eb5802c220>,\n",
       " <entidades.ohlc.OHLC at 0x1eb5802c8b0>,\n",
       " <entidades.ohlc.OHLC at 0x1eb5802c880>,\n",
       " <entidades.ohlc.OHLC at 0x1eb5802c790>,\n",
       " <entidades.ohlc.OHLC at 0x1eb5802c070>,\n",
       " <entidades.ohlc.OHLC at 0x1eb5802c4f0>,\n",
       " <entidades.ohlc.OHLC at 0x1eb5802c280>,\n",
       " <entidades.ohlc.OHLC at 0x1eb5802c2e0>,\n",
       " <entidades.ohlc.OHLC at 0x1eb5802c4c0>,\n",
       " <entidades.ohlc.OHLC at 0x1eb5802c3d0>,\n",
       " <entidades.ohlc.OHLC at 0x1eb5802c5b0>,\n",
       " <entidades.ohlc.OHLC at 0x1eb5802c040>,\n",
       " <entidades.ohlc.OHLC at 0x1eb5802c670>,\n",
       " <entidades.ohlc.OHLC at 0x1eb5802c970>,\n",
       " <entidades.ohlc.OHLC at 0x1eb5802c9d0>,\n",
       " <entidades.ohlc.OHLC at 0x1eb5802ca30>,\n",
       " <entidades.ohlc.OHLC at 0x1eb5802ca90>,\n",
       " <entidades.ohlc.OHLC at 0x1eb5802caf0>,\n",
       " <entidades.ohlc.OHLC at 0x1eb5802cb50>,\n",
       " <entidades.ohlc.OHLC at 0x1eb5802cbb0>,\n",
       " <entidades.ohlc.OHLC at 0x1eb5802cc10>,\n",
       " <entidades.ohlc.OHLC at 0x1eb5802cc70>,\n",
       " <entidades.ohlc.OHLC at 0x1eb5802ccd0>,\n",
       " <entidades.ohlc.OHLC at 0x1eb5802cd30>]"
      ]
     },
     "execution_count": 3,
     "metadata": {},
     "output_type": "execute_result"
    }
   ],
   "source": [
    "cm = CoinMarket()\n",
    "criptomoeda = cm.obter_mercado('bitcoin','7', 'minute') # 1/7/14/30/90/180/365/max\n",
    "criptomoeda.mostrar_ohlc"
   ]
  },
  {
   "cell_type": "code",
   "execution_count": 12,
   "metadata": {},
   "outputs": [
    {
     "data": {
      "text/plain": [
       "pandas.core.series.Series"
      ]
     },
     "execution_count": 12,
     "metadata": {},
     "output_type": "execute_result"
    }
   ],
   "source": [
    "atributos = [dir(ohlc) for ohlc in criptomoeda.mostrar_ohlc][0][-5:]\n",
    "df = [{atributo: getattr(ohlc, atributo) for atributo in atributos} for ohlc in criptomoeda.mostrar_ohlc]\n",
    "df_final_ohlc = pd.DataFrame(df)\n",
    "type(df_final_ohlc['data_hora'])\n"
   ]
  },
  {
   "cell_type": "code",
   "execution_count": 18,
   "metadata": {},
   "outputs": [
    {
     "data": {
      "application/vnd.plotly.v1+json": {
       "config": {
        "plotlyServerURL": "https://plot.ly"
       },
       "data": [
        {
         "close": [
          136108.62,
          136037.07,
          135909.47,
          134538.37,
          132958.5,
          132849.02,
          132111.48,
          129538.04,
          130011.25,
          130251.95,
          129609.84,
          131433.75,
          131722.78,
          131677.73,
          132096.57,
          132073.61,
          132755.45,
          132472.41,
          131932.61,
          132273.63,
          132117.7,
          132474,
          132451.3,
          132591.36,
          133824.6,
          135101.66,
          134821.14,
          134747.57,
          134267.01,
          133516.62,
          132460.22,
          132445.03,
          132214.39,
          132567.88,
          133435.53,
          133356.02,
          133738.74,
          133417.05,
          132787.83,
          132837.59,
          133817.3,
          135052.61,
          135201.66
         ],
         "high": [
          136421.92,
          136037.07,
          136149,
          136301.06,
          135015.84,
          133355.37,
          133375.74,
          131567.97,
          130065.29,
          130424.09,
          129791.88,
          131723.45,
          132237.8,
          132055.65,
          132096.57,
          132129.3,
          132755.45,
          132472.41,
          131932.61,
          132273.63,
          132161.02,
          132474,
          133421.15,
          132591.36,
          133969.61,
          135101.66,
          135000.99,
          134962.6,
          135094.04,
          134095.13,
          133130.3,
          132611.2,
          133055.9,
          132975.77,
          133637.16,
          133531.65,
          134182.35,
          133828.71,
          132787.83,
          132837.59,
          133817.3,
          135238.51,
          135284.55
         ],
         "low": [
          136108.62,
          135811.01,
          135580.36,
          134538.37,
          132958.5,
          132668.75,
          132111.48,
          129538.04,
          129595.12,
          130130.11,
          129585.91,
          130339.41,
          131722.78,
          131677.73,
          131886.38,
          131977.87,
          131958.37,
          132151.55,
          131515.4,
          132009.53,
          132117.7,
          131921.17,
          132451.3,
          132254.32,
          131758.04,
          134051.63,
          134699.49,
          134296.46,
          134267.01,
          133516.62,
          131921.11,
          132375.2,
          132214.39,
          132508.12,
          132953.7,
          133340.26,
          133516.52,
          133417.05,
          132606.29,
          131756.78,
          132465.34,
          134958.63,
          135201.66
         ],
         "open": [
          136421.92,
          135811.01,
          136149,
          135547.28,
          135015.84,
          132668.75,
          133256.42,
          131210.89,
          129790.42,
          130133.69,
          129791.88,
          130339.41,
          131856.57,
          132055.65,
          131886.38,
          131999.34,
          131958.37,
          132151.55,
          131879.58,
          132087.51,
          132152.55,
          131921.17,
          133421.15,
          132254.32,
          132557.51,
          134051.63,
          134938.86,
          134714.17,
          134617.58,
          134095.13,
          133130.3,
          132611.2,
          133055.9,
          132508.12,
          132953.7,
          133372.21,
          133516.52,
          133777.83,
          132652.99,
          131756.78,
          132465.34,
          135238.51,
          135284.55
         ],
         "type": "candlestick",
         "x": [
          "11-05-2023 01:00:00",
          "11-05-2023 05:00:00",
          "11-05-2023 09:00:00",
          "11-05-2023 13:00:00",
          "11-05-2023 17:00:00",
          "11-05-2023 21:00:00",
          "12-05-2023 01:00:00",
          "12-05-2023 05:00:00",
          "12-05-2023 09:00:00",
          "12-05-2023 13:00:00",
          "12-05-2023 17:00:00",
          "12-05-2023 21:00:00",
          "13-05-2023 01:00:00",
          "13-05-2023 05:00:00",
          "13-05-2023 09:00:00",
          "13-05-2023 13:00:00",
          "13-05-2023 17:00:00",
          "13-05-2023 21:00:00",
          "14-05-2023 01:00:00",
          "14-05-2023 05:00:00",
          "14-05-2023 09:00:00",
          "14-05-2023 13:00:00",
          "14-05-2023 17:00:00",
          "14-05-2023 21:00:00",
          "15-05-2023 01:00:00",
          "15-05-2023 05:00:00",
          "15-05-2023 09:00:00",
          "15-05-2023 13:00:00",
          "15-05-2023 17:00:00",
          "15-05-2023 21:00:00",
          "16-05-2023 01:00:00",
          "16-05-2023 05:00:00",
          "16-05-2023 09:00:00",
          "16-05-2023 13:00:00",
          "16-05-2023 17:00:00",
          "16-05-2023 21:00:00",
          "17-05-2023 01:00:00",
          "17-05-2023 05:00:00",
          "17-05-2023 09:00:00",
          "17-05-2023 13:00:00",
          "17-05-2023 17:00:00",
          "17-05-2023 21:00:00",
          "18-05-2023 01:00:00"
         ]
        }
       ],
       "layout": {
        "legend": {
         "orientation": "h"
        },
        "template": {
         "data": {
          "bar": [
           {
            "error_x": {
             "color": "#2a3f5f"
            },
            "error_y": {
             "color": "#2a3f5f"
            },
            "marker": {
             "line": {
              "color": "#E5ECF6",
              "width": 0.5
             },
             "pattern": {
              "fillmode": "overlay",
              "size": 10,
              "solidity": 0.2
             }
            },
            "type": "bar"
           }
          ],
          "barpolar": [
           {
            "marker": {
             "line": {
              "color": "#E5ECF6",
              "width": 0.5
             },
             "pattern": {
              "fillmode": "overlay",
              "size": 10,
              "solidity": 0.2
             }
            },
            "type": "barpolar"
           }
          ],
          "carpet": [
           {
            "aaxis": {
             "endlinecolor": "#2a3f5f",
             "gridcolor": "white",
             "linecolor": "white",
             "minorgridcolor": "white",
             "startlinecolor": "#2a3f5f"
            },
            "baxis": {
             "endlinecolor": "#2a3f5f",
             "gridcolor": "white",
             "linecolor": "white",
             "minorgridcolor": "white",
             "startlinecolor": "#2a3f5f"
            },
            "type": "carpet"
           }
          ],
          "choropleth": [
           {
            "colorbar": {
             "outlinewidth": 0,
             "ticks": ""
            },
            "type": "choropleth"
           }
          ],
          "contour": [
           {
            "colorbar": {
             "outlinewidth": 0,
             "ticks": ""
            },
            "colorscale": [
             [
              0,
              "#0d0887"
             ],
             [
              0.1111111111111111,
              "#46039f"
             ],
             [
              0.2222222222222222,
              "#7201a8"
             ],
             [
              0.3333333333333333,
              "#9c179e"
             ],
             [
              0.4444444444444444,
              "#bd3786"
             ],
             [
              0.5555555555555556,
              "#d8576b"
             ],
             [
              0.6666666666666666,
              "#ed7953"
             ],
             [
              0.7777777777777778,
              "#fb9f3a"
             ],
             [
              0.8888888888888888,
              "#fdca26"
             ],
             [
              1,
              "#f0f921"
             ]
            ],
            "type": "contour"
           }
          ],
          "contourcarpet": [
           {
            "colorbar": {
             "outlinewidth": 0,
             "ticks": ""
            },
            "type": "contourcarpet"
           }
          ],
          "heatmap": [
           {
            "colorbar": {
             "outlinewidth": 0,
             "ticks": ""
            },
            "colorscale": [
             [
              0,
              "#0d0887"
             ],
             [
              0.1111111111111111,
              "#46039f"
             ],
             [
              0.2222222222222222,
              "#7201a8"
             ],
             [
              0.3333333333333333,
              "#9c179e"
             ],
             [
              0.4444444444444444,
              "#bd3786"
             ],
             [
              0.5555555555555556,
              "#d8576b"
             ],
             [
              0.6666666666666666,
              "#ed7953"
             ],
             [
              0.7777777777777778,
              "#fb9f3a"
             ],
             [
              0.8888888888888888,
              "#fdca26"
             ],
             [
              1,
              "#f0f921"
             ]
            ],
            "type": "heatmap"
           }
          ],
          "heatmapgl": [
           {
            "colorbar": {
             "outlinewidth": 0,
             "ticks": ""
            },
            "colorscale": [
             [
              0,
              "#0d0887"
             ],
             [
              0.1111111111111111,
              "#46039f"
             ],
             [
              0.2222222222222222,
              "#7201a8"
             ],
             [
              0.3333333333333333,
              "#9c179e"
             ],
             [
              0.4444444444444444,
              "#bd3786"
             ],
             [
              0.5555555555555556,
              "#d8576b"
             ],
             [
              0.6666666666666666,
              "#ed7953"
             ],
             [
              0.7777777777777778,
              "#fb9f3a"
             ],
             [
              0.8888888888888888,
              "#fdca26"
             ],
             [
              1,
              "#f0f921"
             ]
            ],
            "type": "heatmapgl"
           }
          ],
          "histogram": [
           {
            "marker": {
             "pattern": {
              "fillmode": "overlay",
              "size": 10,
              "solidity": 0.2
             }
            },
            "type": "histogram"
           }
          ],
          "histogram2d": [
           {
            "colorbar": {
             "outlinewidth": 0,
             "ticks": ""
            },
            "colorscale": [
             [
              0,
              "#0d0887"
             ],
             [
              0.1111111111111111,
              "#46039f"
             ],
             [
              0.2222222222222222,
              "#7201a8"
             ],
             [
              0.3333333333333333,
              "#9c179e"
             ],
             [
              0.4444444444444444,
              "#bd3786"
             ],
             [
              0.5555555555555556,
              "#d8576b"
             ],
             [
              0.6666666666666666,
              "#ed7953"
             ],
             [
              0.7777777777777778,
              "#fb9f3a"
             ],
             [
              0.8888888888888888,
              "#fdca26"
             ],
             [
              1,
              "#f0f921"
             ]
            ],
            "type": "histogram2d"
           }
          ],
          "histogram2dcontour": [
           {
            "colorbar": {
             "outlinewidth": 0,
             "ticks": ""
            },
            "colorscale": [
             [
              0,
              "#0d0887"
             ],
             [
              0.1111111111111111,
              "#46039f"
             ],
             [
              0.2222222222222222,
              "#7201a8"
             ],
             [
              0.3333333333333333,
              "#9c179e"
             ],
             [
              0.4444444444444444,
              "#bd3786"
             ],
             [
              0.5555555555555556,
              "#d8576b"
             ],
             [
              0.6666666666666666,
              "#ed7953"
             ],
             [
              0.7777777777777778,
              "#fb9f3a"
             ],
             [
              0.8888888888888888,
              "#fdca26"
             ],
             [
              1,
              "#f0f921"
             ]
            ],
            "type": "histogram2dcontour"
           }
          ],
          "mesh3d": [
           {
            "colorbar": {
             "outlinewidth": 0,
             "ticks": ""
            },
            "type": "mesh3d"
           }
          ],
          "parcoords": [
           {
            "line": {
             "colorbar": {
              "outlinewidth": 0,
              "ticks": ""
             }
            },
            "type": "parcoords"
           }
          ],
          "pie": [
           {
            "automargin": true,
            "type": "pie"
           }
          ],
          "scatter": [
           {
            "fillpattern": {
             "fillmode": "overlay",
             "size": 10,
             "solidity": 0.2
            },
            "type": "scatter"
           }
          ],
          "scatter3d": [
           {
            "line": {
             "colorbar": {
              "outlinewidth": 0,
              "ticks": ""
             }
            },
            "marker": {
             "colorbar": {
              "outlinewidth": 0,
              "ticks": ""
             }
            },
            "type": "scatter3d"
           }
          ],
          "scattercarpet": [
           {
            "marker": {
             "colorbar": {
              "outlinewidth": 0,
              "ticks": ""
             }
            },
            "type": "scattercarpet"
           }
          ],
          "scattergeo": [
           {
            "marker": {
             "colorbar": {
              "outlinewidth": 0,
              "ticks": ""
             }
            },
            "type": "scattergeo"
           }
          ],
          "scattergl": [
           {
            "marker": {
             "colorbar": {
              "outlinewidth": 0,
              "ticks": ""
             }
            },
            "type": "scattergl"
           }
          ],
          "scattermapbox": [
           {
            "marker": {
             "colorbar": {
              "outlinewidth": 0,
              "ticks": ""
             }
            },
            "type": "scattermapbox"
           }
          ],
          "scatterpolar": [
           {
            "marker": {
             "colorbar": {
              "outlinewidth": 0,
              "ticks": ""
             }
            },
            "type": "scatterpolar"
           }
          ],
          "scatterpolargl": [
           {
            "marker": {
             "colorbar": {
              "outlinewidth": 0,
              "ticks": ""
             }
            },
            "type": "scatterpolargl"
           }
          ],
          "scatterternary": [
           {
            "marker": {
             "colorbar": {
              "outlinewidth": 0,
              "ticks": ""
             }
            },
            "type": "scatterternary"
           }
          ],
          "surface": [
           {
            "colorbar": {
             "outlinewidth": 0,
             "ticks": ""
            },
            "colorscale": [
             [
              0,
              "#0d0887"
             ],
             [
              0.1111111111111111,
              "#46039f"
             ],
             [
              0.2222222222222222,
              "#7201a8"
             ],
             [
              0.3333333333333333,
              "#9c179e"
             ],
             [
              0.4444444444444444,
              "#bd3786"
             ],
             [
              0.5555555555555556,
              "#d8576b"
             ],
             [
              0.6666666666666666,
              "#ed7953"
             ],
             [
              0.7777777777777778,
              "#fb9f3a"
             ],
             [
              0.8888888888888888,
              "#fdca26"
             ],
             [
              1,
              "#f0f921"
             ]
            ],
            "type": "surface"
           }
          ],
          "table": [
           {
            "cells": {
             "fill": {
              "color": "#EBF0F8"
             },
             "line": {
              "color": "white"
             }
            },
            "header": {
             "fill": {
              "color": "#C8D4E3"
             },
             "line": {
              "color": "white"
             }
            },
            "type": "table"
           }
          ]
         },
         "layout": {
          "annotationdefaults": {
           "arrowcolor": "#2a3f5f",
           "arrowhead": 0,
           "arrowwidth": 1
          },
          "autotypenumbers": "strict",
          "coloraxis": {
           "colorbar": {
            "outlinewidth": 0,
            "ticks": ""
           }
          },
          "colorscale": {
           "diverging": [
            [
             0,
             "#8e0152"
            ],
            [
             0.1,
             "#c51b7d"
            ],
            [
             0.2,
             "#de77ae"
            ],
            [
             0.3,
             "#f1b6da"
            ],
            [
             0.4,
             "#fde0ef"
            ],
            [
             0.5,
             "#f7f7f7"
            ],
            [
             0.6,
             "#e6f5d0"
            ],
            [
             0.7,
             "#b8e186"
            ],
            [
             0.8,
             "#7fbc41"
            ],
            [
             0.9,
             "#4d9221"
            ],
            [
             1,
             "#276419"
            ]
           ],
           "sequential": [
            [
             0,
             "#0d0887"
            ],
            [
             0.1111111111111111,
             "#46039f"
            ],
            [
             0.2222222222222222,
             "#7201a8"
            ],
            [
             0.3333333333333333,
             "#9c179e"
            ],
            [
             0.4444444444444444,
             "#bd3786"
            ],
            [
             0.5555555555555556,
             "#d8576b"
            ],
            [
             0.6666666666666666,
             "#ed7953"
            ],
            [
             0.7777777777777778,
             "#fb9f3a"
            ],
            [
             0.8888888888888888,
             "#fdca26"
            ],
            [
             1,
             "#f0f921"
            ]
           ],
           "sequentialminus": [
            [
             0,
             "#0d0887"
            ],
            [
             0.1111111111111111,
             "#46039f"
            ],
            [
             0.2222222222222222,
             "#7201a8"
            ],
            [
             0.3333333333333333,
             "#9c179e"
            ],
            [
             0.4444444444444444,
             "#bd3786"
            ],
            [
             0.5555555555555556,
             "#d8576b"
            ],
            [
             0.6666666666666666,
             "#ed7953"
            ],
            [
             0.7777777777777778,
             "#fb9f3a"
            ],
            [
             0.8888888888888888,
             "#fdca26"
            ],
            [
             1,
             "#f0f921"
            ]
           ]
          },
          "colorway": [
           "#636efa",
           "#EF553B",
           "#00cc96",
           "#ab63fa",
           "#FFA15A",
           "#19d3f3",
           "#FF6692",
           "#B6E880",
           "#FF97FF",
           "#FECB52"
          ],
          "font": {
           "color": "#2a3f5f"
          },
          "geo": {
           "bgcolor": "white",
           "lakecolor": "white",
           "landcolor": "#E5ECF6",
           "showlakes": true,
           "showland": true,
           "subunitcolor": "white"
          },
          "hoverlabel": {
           "align": "left"
          },
          "hovermode": "closest",
          "mapbox": {
           "style": "light"
          },
          "paper_bgcolor": "white",
          "plot_bgcolor": "#E5ECF6",
          "polar": {
           "angularaxis": {
            "gridcolor": "white",
            "linecolor": "white",
            "ticks": ""
           },
           "bgcolor": "#E5ECF6",
           "radialaxis": {
            "gridcolor": "white",
            "linecolor": "white",
            "ticks": ""
           }
          },
          "scene": {
           "xaxis": {
            "backgroundcolor": "#E5ECF6",
            "gridcolor": "white",
            "gridwidth": 2,
            "linecolor": "white",
            "showbackground": true,
            "ticks": "",
            "zerolinecolor": "white"
           },
           "yaxis": {
            "backgroundcolor": "#E5ECF6",
            "gridcolor": "white",
            "gridwidth": 2,
            "linecolor": "white",
            "showbackground": true,
            "ticks": "",
            "zerolinecolor": "white"
           },
           "zaxis": {
            "backgroundcolor": "#E5ECF6",
            "gridcolor": "white",
            "gridwidth": 2,
            "linecolor": "white",
            "showbackground": true,
            "ticks": "",
            "zerolinecolor": "white"
           }
          },
          "shapedefaults": {
           "line": {
            "color": "#2a3f5f"
           }
          },
          "ternary": {
           "aaxis": {
            "gridcolor": "white",
            "linecolor": "white",
            "ticks": ""
           },
           "baxis": {
            "gridcolor": "white",
            "linecolor": "white",
            "ticks": ""
           },
           "bgcolor": "#E5ECF6",
           "caxis": {
            "gridcolor": "white",
            "linecolor": "white",
            "ticks": ""
           }
          },
          "title": {
           "x": 0.05
          },
          "xaxis": {
           "automargin": true,
           "gridcolor": "white",
           "linecolor": "white",
           "ticks": "",
           "title": {
            "standoff": 15
           },
           "zerolinecolor": "white",
           "zerolinewidth": 2
          },
          "yaxis": {
           "automargin": true,
           "gridcolor": "white",
           "linecolor": "white",
           "ticks": "",
           "title": {
            "standoff": 15
           },
           "zerolinecolor": "white",
           "zerolinewidth": 2
          }
         }
        },
        "xaxis": {
         "dtick": "M1",
         "rangeslider": {
          "visible": false
         },
         "tickangle": 45,
         "tickfont": {
          "size": 10
         },
         "tickformat": "%d/%m/%Y\n%H:%M:%S"
        }
       }
      }
     },
     "metadata": {},
     "output_type": "display_data"
    }
   ],
   "source": [
    "fig = go.Figure(\n",
    "    data=[\n",
    "        go.Candlestick(\n",
    "            x=df_final_ohlc['data_hora'],\n",
    "            open=df_final_ohlc['open'],\n",
    "            high=df_final_ohlc['high'],\n",
    "            low=df_final_ohlc['low'],\n",
    "            close=df_final_ohlc['close']\n",
    "        )\n",
    "    ]\n",
    ")\n",
    "\n",
    "fig.update_layout(xaxis_rangeslider_visible=False, \n",
    "                  legend_orientation=\"h\")\n",
    "fig.update_xaxes(\n",
    "    tickformat='%d/%m/%Y\\n%H:%M:%S',\n",
    "    tickangle=45,\n",
    "    dtick='M1',\n",
    "    tickfont=dict(size=10)\n",
    ")\n",
    "fig.show()"
   ]
  },
  {
   "cell_type": "code",
   "execution_count": 7,
   "metadata": {},
   "outputs": [
    {
     "data": {
      "text/html": [
       "<div>\n",
       "<style scoped>\n",
       "    .dataframe tbody tr th:only-of-type {\n",
       "        vertical-align: middle;\n",
       "    }\n",
       "\n",
       "    .dataframe tbody tr th {\n",
       "        vertical-align: top;\n",
       "    }\n",
       "\n",
       "    .dataframe thead th {\n",
       "        text-align: right;\n",
       "    }\n",
       "</style>\n",
       "<table border=\"1\" class=\"dataframe\">\n",
       "  <thead>\n",
       "    <tr style=\"text-align: right;\">\n",
       "      <th></th>\n",
       "      <th>preco</th>\n",
       "      <th>timestamp</th>\n",
       "    </tr>\n",
       "  </thead>\n",
       "  <tbody>\n",
       "    <tr>\n",
       "      <th>0</th>\n",
       "      <td>136421.918083</td>\n",
       "      <td>10-05-2023 23:01:32</td>\n",
       "    </tr>\n",
       "    <tr>\n",
       "      <th>1</th>\n",
       "      <td>136108.619831</td>\n",
       "      <td>11-05-2023 00:00:30</td>\n",
       "    </tr>\n",
       "    <tr>\n",
       "      <th>2</th>\n",
       "      <td>135811.006712</td>\n",
       "      <td>11-05-2023 01:00:19</td>\n",
       "    </tr>\n",
       "    <tr>\n",
       "      <th>3</th>\n",
       "      <td>135983.122963</td>\n",
       "      <td>11-05-2023 02:00:19</td>\n",
       "    </tr>\n",
       "    <tr>\n",
       "      <th>4</th>\n",
       "      <td>135929.826594</td>\n",
       "      <td>11-05-2023 03:00:05</td>\n",
       "    </tr>\n",
       "    <tr>\n",
       "      <th>...</th>\n",
       "      <td>...</td>\n",
       "      <td>...</td>\n",
       "    </tr>\n",
       "    <tr>\n",
       "      <th>164</th>\n",
       "      <td>135156.221404</td>\n",
       "      <td>17-05-2023 19:00:04</td>\n",
       "    </tr>\n",
       "    <tr>\n",
       "      <th>165</th>\n",
       "      <td>135052.606218</td>\n",
       "      <td>17-05-2023 20:01:08</td>\n",
       "    </tr>\n",
       "    <tr>\n",
       "      <th>166</th>\n",
       "      <td>135284.547289</td>\n",
       "      <td>17-05-2023 21:01:01</td>\n",
       "    </tr>\n",
       "    <tr>\n",
       "      <th>167</th>\n",
       "      <td>135201.661011</td>\n",
       "      <td>17-05-2023 22:00:46</td>\n",
       "    </tr>\n",
       "    <tr>\n",
       "      <th>168</th>\n",
       "      <td>135217.173135</td>\n",
       "      <td>17-05-2023 22:11:07</td>\n",
       "    </tr>\n",
       "  </tbody>\n",
       "</table>\n",
       "<p>169 rows × 2 columns</p>\n",
       "</div>"
      ],
      "text/plain": [
       "             preco            timestamp\n",
       "0    136421.918083  10-05-2023 23:01:32\n",
       "1    136108.619831  11-05-2023 00:00:30\n",
       "2    135811.006712  11-05-2023 01:00:19\n",
       "3    135983.122963  11-05-2023 02:00:19\n",
       "4    135929.826594  11-05-2023 03:00:05\n",
       "..             ...                  ...\n",
       "164  135156.221404  17-05-2023 19:00:04\n",
       "165  135052.606218  17-05-2023 20:01:08\n",
       "166  135284.547289  17-05-2023 21:01:01\n",
       "167  135201.661011  17-05-2023 22:00:46\n",
       "168  135217.173135  17-05-2023 22:11:07\n",
       "\n",
       "[169 rows x 2 columns]"
      ]
     },
     "execution_count": 7,
     "metadata": {},
     "output_type": "execute_result"
    }
   ],
   "source": [
    "atributos = [dir(transacao) for transacao in criptomoeda.listar_transacoes][0][-2:]\n",
    "df = [{atributo: getattr(transacao, atributo) for atributo in atributos} for transacao in criptomoeda.listar_transacoes]\n",
    "df_final = pd.DataFrame(df)\n",
    "df_final"
   ]
  },
  {
   "cell_type": "code",
   "execution_count": 16,
   "metadata": {},
   "outputs": [
    {
     "data": {
      "application/vnd.plotly.v1+json": {
       "config": {
        "plotlyServerURL": "https://plot.ly"
       },
       "data": [
        {
         "hovertemplate": "timestamp=%{x}<br>preco=%{y}<extra></extra>",
         "legendgroup": "",
         "line": {
          "color": "#636efa",
          "dash": "solid"
         },
         "marker": {
          "symbol": "circle"
         },
         "mode": "lines",
         "name": "",
         "orientation": "v",
         "showlegend": false,
         "type": "scatter",
         "x": [
          "10-05-2023 23:01:32",
          "11-05-2023 00:00:30",
          "11-05-2023 01:00:19",
          "11-05-2023 02:00:19",
          "11-05-2023 03:00:05",
          "11-05-2023 04:00:16",
          "11-05-2023 05:00:57",
          "11-05-2023 06:00:26",
          "11-05-2023 07:00:15",
          "11-05-2023 08:00:11",
          "11-05-2023 09:01:00",
          "11-05-2023 10:00:05",
          "11-05-2023 11:00:26",
          "11-05-2023 12:00:57",
          "11-05-2023 13:00:25",
          "11-05-2023 14:00:16",
          "11-05-2023 15:00:20",
          "11-05-2023 16:00:36",
          "11-05-2023 17:00:29",
          "11-05-2023 18:00:29",
          "11-05-2023 19:01:08",
          "11-05-2023 20:00:06",
          "11-05-2023 21:00:20",
          "11-05-2023 22:00:17",
          "11-05-2023 23:00:17",
          "12-05-2023 00:00:50",
          "12-05-2023 01:00:19",
          "12-05-2023 02:00:33",
          "12-05-2023 03:00:06",
          "12-05-2023 04:00:06",
          "12-05-2023 05:01:09",
          "12-05-2023 06:00:53",
          "12-05-2023 07:00:10",
          "12-05-2023 08:00:12",
          "12-05-2023 09:00:35",
          "12-05-2023 10:01:05",
          "12-05-2023 11:00:28",
          "12-05-2023 12:00:11",
          "12-05-2023 13:00:05",
          "12-05-2023 14:00:22",
          "12-05-2023 15:01:26",
          "12-05-2023 16:00:43",
          "12-05-2023 17:00:14",
          "12-05-2023 18:00:24",
          "12-05-2023 19:00:11",
          "12-05-2023 20:01:09",
          "12-05-2023 21:00:39",
          "12-05-2023 22:00:42",
          "12-05-2023 23:00:08",
          "13-05-2023 00:00:37",
          "13-05-2023 01:00:03",
          "13-05-2023 02:01:26",
          "13-05-2023 03:00:45",
          "13-05-2023 04:00:06",
          "13-05-2023 05:00:27",
          "13-05-2023 06:00:50",
          "13-05-2023 07:00:02",
          "13-05-2023 08:00:20",
          "13-05-2023 09:00:02",
          "13-05-2023 10:00:10",
          "13-05-2023 11:00:27",
          "13-05-2023 12:00:20",
          "13-05-2023 13:00:40",
          "13-05-2023 14:00:07",
          "13-05-2023 15:00:45",
          "13-05-2023 16:00:45",
          "13-05-2023 17:01:34",
          "13-05-2023 18:00:45",
          "13-05-2023 19:01:11",
          "13-05-2023 20:01:07",
          "13-05-2023 21:00:04",
          "13-05-2023 22:00:45",
          "13-05-2023 23:01:12",
          "14-05-2023 00:01:02",
          "14-05-2023 01:00:46",
          "14-05-2023 02:00:29",
          "14-05-2023 03:00:44",
          "14-05-2023 04:01:04",
          "14-05-2023 05:00:26",
          "14-05-2023 06:00:32",
          "14-05-2023 07:01:14",
          "14-05-2023 08:00:33",
          "14-05-2023 09:00:28",
          "14-05-2023 10:00:38",
          "14-05-2023 11:00:32",
          "14-05-2023 12:00:31",
          "14-05-2023 13:00:30",
          "14-05-2023 14:00:34",
          "14-05-2023 15:00:58",
          "14-05-2023 16:00:32",
          "14-05-2023 17:00:50",
          "14-05-2023 18:00:51",
          "14-05-2023 19:01:33",
          "14-05-2023 20:00:36",
          "14-05-2023 21:01:25",
          "14-05-2023 22:01:01",
          "14-05-2023 23:01:15",
          "15-05-2023 00:00:10",
          "15-05-2023 01:00:35",
          "15-05-2023 02:00:38",
          "15-05-2023 03:00:45",
          "15-05-2023 04:00:23",
          "15-05-2023 05:00:30",
          "15-05-2023 06:01:30",
          "15-05-2023 07:00:41",
          "15-05-2023 08:00:32",
          "15-05-2023 09:00:31",
          "15-05-2023 10:00:07",
          "15-05-2023 11:00:32",
          "15-05-2023 12:00:36",
          "15-05-2023 13:01:37",
          "15-05-2023 14:00:08",
          "15-05-2023 15:00:28",
          "15-05-2023 16:00:14",
          "15-05-2023 17:00:02",
          "15-05-2023 18:00:38",
          "15-05-2023 19:00:55",
          "15-05-2023 20:01:32",
          "15-05-2023 21:01:06",
          "15-05-2023 22:00:17",
          "15-05-2023 23:01:29",
          "16-05-2023 00:01:37",
          "16-05-2023 01:01:26",
          "16-05-2023 02:00:20",
          "16-05-2023 03:01:34",
          "16-05-2023 04:00:50",
          "16-05-2023 05:00:04",
          "16-05-2023 06:00:29",
          "16-05-2023 07:01:30",
          "16-05-2023 08:00:27",
          "16-05-2023 09:00:45",
          "16-05-2023 10:00:19",
          "16-05-2023 11:01:42",
          "16-05-2023 12:00:43",
          "16-05-2023 13:00:00",
          "16-05-2023 14:01:31",
          "16-05-2023 15:00:38",
          "16-05-2023 16:00:30",
          "16-05-2023 17:00:23",
          "16-05-2023 18:00:06",
          "16-05-2023 19:00:37",
          "16-05-2023 20:01:20",
          "16-05-2023 21:00:42",
          "16-05-2023 22:00:57",
          "16-05-2023 23:00:29",
          "17-05-2023 00:00:30",
          "17-05-2023 01:00:50",
          "17-05-2023 02:00:16",
          "17-05-2023 03:00:35",
          "17-05-2023 04:01:13",
          "17-05-2023 05:01:31",
          "17-05-2023 06:01:38",
          "17-05-2023 07:01:18",
          "17-05-2023 08:01:41",
          "17-05-2023 09:00:30",
          "17-05-2023 10:00:44",
          "17-05-2023 11:00:06",
          "17-05-2023 12:00:33",
          "17-05-2023 13:00:35",
          "17-05-2023 14:01:26",
          "17-05-2023 15:00:22",
          "17-05-2023 16:00:44",
          "17-05-2023 17:00:35",
          "17-05-2023 18:01:29",
          "17-05-2023 19:00:04",
          "17-05-2023 20:01:08",
          "17-05-2023 21:01:01",
          "17-05-2023 22:00:46",
          "17-05-2023 22:11:07"
         ],
         "xaxis": "x",
         "y": [
          136421.9180833791,
          136108.6198308909,
          135811.00671179162,
          135983.12296293254,
          135929.8265941601,
          136037.0749407303,
          136149.00410810285,
          135580.36051589253,
          135685.09283843383,
          135909.47029795617,
          135547.27914019575,
          136301.05696480986,
          136126.95417014425,
          134538.36504102813,
          135015.83877402815,
          134727.196807903,
          133157.25226944342,
          132958.4951124206,
          132668.75005574134,
          133149.84154656902,
          133355.36529278316,
          132849.02397220733,
          133256.4173346046,
          133375.73725361534,
          132652.18164753492,
          132111.4755814667,
          131210.89401393605,
          131567.97435256865,
          130901.15882767578,
          129538.04340279437,
          129790.4219036079,
          129595.11649620779,
          130065.29435406736,
          130011.24795739293,
          130133.68520916691,
          130424.09332814447,
          130130.10885602172,
          130251.94728523715,
          129791.88424823018,
          129585.9093594792,
          129723.18622948053,
          129609.83723825384,
          130339.40581054027,
          130359.37330381505,
          131723.45237810316,
          131433.75259929372,
          131856.57263516771,
          131799.13723779767,
          132237.79913955115,
          131722.77783729052,
          132055.6520451579,
          131948.2446966709,
          131786.25375607022,
          131677.73414314914,
          131886.37731609828,
          132001.018323404,
          132074.74781846124,
          132096.5738558953,
          131999.34029994658,
          132129.30217046014,
          131977.86906653206,
          132073.61355650684,
          131958.37469061778,
          132014.74633724807,
          132068.57406566045,
          132755.44979258603,
          132151.54716380907,
          132292.00070641172,
          132428.78125762215,
          132472.40548808183,
          131879.58284652367,
          131602.58434119468,
          131515.40183770197,
          131932.6098419491,
          132087.5117904332,
          132009.5284576007,
          132018.79194695025,
          132273.63434838902,
          132152.54827556177,
          132161.02164177824,
          132155.59382673018,
          132117.7036885401,
          131921.1653134382,
          132047.57059239244,
          132294.05977464144,
          132474.00383669653,
          133421.15317592595,
          132988.620827695,
          132592.24293274918,
          132451.30186510488,
          132254.31949176788,
          132543.82739452217,
          132465.8684562786,
          132591.35924566587,
          132557.50956485854,
          131758.03727913604,
          133969.61084717468,
          133824.59923514412,
          134051.62662700872,
          134142.43585692468,
          134486.76591283132,
          135101.65569014938,
          134938.8592448539,
          135000.98715347823,
          134699.48955474095,
          134821.1398494342,
          134714.17043290185,
          134296.45901590504,
          134962.59765154077,
          134747.57289207063,
          134617.5808136841,
          134709.53275564677,
          135094.0407575466,
          134267.00893456856,
          134095.12874810025,
          133786.38496589861,
          133889.06079161857,
          133516.62053079554,
          133130.29593960146,
          133082.87737216082,
          131921.1080517105,
          132460.22409135904,
          132611.19983991518,
          132588.70718391053,
          132375.19580569514,
          132445.02989031776,
          133055.9045379216,
          132972.70986138677,
          132621.38507202652,
          132214.38528108032,
          132508.1153660875,
          132975.77129171486,
          132698.49673252556,
          132567.88355961585,
          132953.70224071507,
          133615.43045822126,
          133637.1608491491,
          133435.53181757248,
          133372.20537884856,
          133340.2616176087,
          133531.64860317338,
          133356.0205759188,
          133516.5235210269,
          134005.550089087,
          134182.34551137738,
          133738.73565122133,
          133777.83358259514,
          133828.71454768063,
          133433.02280408324,
          133417.04773064397,
          132652.98870595134,
          132606.2927984484,
          132716.47168730837,
          132787.8299544294,
          131756.77885885112,
          132566.35181676844,
          132255.09166537313,
          132837.59358908527,
          132465.34230132934,
          132590.85193124996,
          133529.46293282206,
          133817.29564193275,
          135238.51375817833,
          134958.62503487535,
          135156.22140410836,
          135052.60621832483,
          135284.54728931512,
          135201.66101057478,
          135217.1731351793
         ],
         "yaxis": "y"
        }
       ],
       "layout": {
        "legend": {
         "tracegroupgap": 0
        },
        "margin": {
         "t": 60
        },
        "template": {
         "data": {
          "bar": [
           {
            "error_x": {
             "color": "#2a3f5f"
            },
            "error_y": {
             "color": "#2a3f5f"
            },
            "marker": {
             "line": {
              "color": "#E5ECF6",
              "width": 0.5
             },
             "pattern": {
              "fillmode": "overlay",
              "size": 10,
              "solidity": 0.2
             }
            },
            "type": "bar"
           }
          ],
          "barpolar": [
           {
            "marker": {
             "line": {
              "color": "#E5ECF6",
              "width": 0.5
             },
             "pattern": {
              "fillmode": "overlay",
              "size": 10,
              "solidity": 0.2
             }
            },
            "type": "barpolar"
           }
          ],
          "carpet": [
           {
            "aaxis": {
             "endlinecolor": "#2a3f5f",
             "gridcolor": "white",
             "linecolor": "white",
             "minorgridcolor": "white",
             "startlinecolor": "#2a3f5f"
            },
            "baxis": {
             "endlinecolor": "#2a3f5f",
             "gridcolor": "white",
             "linecolor": "white",
             "minorgridcolor": "white",
             "startlinecolor": "#2a3f5f"
            },
            "type": "carpet"
           }
          ],
          "choropleth": [
           {
            "colorbar": {
             "outlinewidth": 0,
             "ticks": ""
            },
            "type": "choropleth"
           }
          ],
          "contour": [
           {
            "colorbar": {
             "outlinewidth": 0,
             "ticks": ""
            },
            "colorscale": [
             [
              0,
              "#0d0887"
             ],
             [
              0.1111111111111111,
              "#46039f"
             ],
             [
              0.2222222222222222,
              "#7201a8"
             ],
             [
              0.3333333333333333,
              "#9c179e"
             ],
             [
              0.4444444444444444,
              "#bd3786"
             ],
             [
              0.5555555555555556,
              "#d8576b"
             ],
             [
              0.6666666666666666,
              "#ed7953"
             ],
             [
              0.7777777777777778,
              "#fb9f3a"
             ],
             [
              0.8888888888888888,
              "#fdca26"
             ],
             [
              1,
              "#f0f921"
             ]
            ],
            "type": "contour"
           }
          ],
          "contourcarpet": [
           {
            "colorbar": {
             "outlinewidth": 0,
             "ticks": ""
            },
            "type": "contourcarpet"
           }
          ],
          "heatmap": [
           {
            "colorbar": {
             "outlinewidth": 0,
             "ticks": ""
            },
            "colorscale": [
             [
              0,
              "#0d0887"
             ],
             [
              0.1111111111111111,
              "#46039f"
             ],
             [
              0.2222222222222222,
              "#7201a8"
             ],
             [
              0.3333333333333333,
              "#9c179e"
             ],
             [
              0.4444444444444444,
              "#bd3786"
             ],
             [
              0.5555555555555556,
              "#d8576b"
             ],
             [
              0.6666666666666666,
              "#ed7953"
             ],
             [
              0.7777777777777778,
              "#fb9f3a"
             ],
             [
              0.8888888888888888,
              "#fdca26"
             ],
             [
              1,
              "#f0f921"
             ]
            ],
            "type": "heatmap"
           }
          ],
          "heatmapgl": [
           {
            "colorbar": {
             "outlinewidth": 0,
             "ticks": ""
            },
            "colorscale": [
             [
              0,
              "#0d0887"
             ],
             [
              0.1111111111111111,
              "#46039f"
             ],
             [
              0.2222222222222222,
              "#7201a8"
             ],
             [
              0.3333333333333333,
              "#9c179e"
             ],
             [
              0.4444444444444444,
              "#bd3786"
             ],
             [
              0.5555555555555556,
              "#d8576b"
             ],
             [
              0.6666666666666666,
              "#ed7953"
             ],
             [
              0.7777777777777778,
              "#fb9f3a"
             ],
             [
              0.8888888888888888,
              "#fdca26"
             ],
             [
              1,
              "#f0f921"
             ]
            ],
            "type": "heatmapgl"
           }
          ],
          "histogram": [
           {
            "marker": {
             "pattern": {
              "fillmode": "overlay",
              "size": 10,
              "solidity": 0.2
             }
            },
            "type": "histogram"
           }
          ],
          "histogram2d": [
           {
            "colorbar": {
             "outlinewidth": 0,
             "ticks": ""
            },
            "colorscale": [
             [
              0,
              "#0d0887"
             ],
             [
              0.1111111111111111,
              "#46039f"
             ],
             [
              0.2222222222222222,
              "#7201a8"
             ],
             [
              0.3333333333333333,
              "#9c179e"
             ],
             [
              0.4444444444444444,
              "#bd3786"
             ],
             [
              0.5555555555555556,
              "#d8576b"
             ],
             [
              0.6666666666666666,
              "#ed7953"
             ],
             [
              0.7777777777777778,
              "#fb9f3a"
             ],
             [
              0.8888888888888888,
              "#fdca26"
             ],
             [
              1,
              "#f0f921"
             ]
            ],
            "type": "histogram2d"
           }
          ],
          "histogram2dcontour": [
           {
            "colorbar": {
             "outlinewidth": 0,
             "ticks": ""
            },
            "colorscale": [
             [
              0,
              "#0d0887"
             ],
             [
              0.1111111111111111,
              "#46039f"
             ],
             [
              0.2222222222222222,
              "#7201a8"
             ],
             [
              0.3333333333333333,
              "#9c179e"
             ],
             [
              0.4444444444444444,
              "#bd3786"
             ],
             [
              0.5555555555555556,
              "#d8576b"
             ],
             [
              0.6666666666666666,
              "#ed7953"
             ],
             [
              0.7777777777777778,
              "#fb9f3a"
             ],
             [
              0.8888888888888888,
              "#fdca26"
             ],
             [
              1,
              "#f0f921"
             ]
            ],
            "type": "histogram2dcontour"
           }
          ],
          "mesh3d": [
           {
            "colorbar": {
             "outlinewidth": 0,
             "ticks": ""
            },
            "type": "mesh3d"
           }
          ],
          "parcoords": [
           {
            "line": {
             "colorbar": {
              "outlinewidth": 0,
              "ticks": ""
             }
            },
            "type": "parcoords"
           }
          ],
          "pie": [
           {
            "automargin": true,
            "type": "pie"
           }
          ],
          "scatter": [
           {
            "fillpattern": {
             "fillmode": "overlay",
             "size": 10,
             "solidity": 0.2
            },
            "type": "scatter"
           }
          ],
          "scatter3d": [
           {
            "line": {
             "colorbar": {
              "outlinewidth": 0,
              "ticks": ""
             }
            },
            "marker": {
             "colorbar": {
              "outlinewidth": 0,
              "ticks": ""
             }
            },
            "type": "scatter3d"
           }
          ],
          "scattercarpet": [
           {
            "marker": {
             "colorbar": {
              "outlinewidth": 0,
              "ticks": ""
             }
            },
            "type": "scattercarpet"
           }
          ],
          "scattergeo": [
           {
            "marker": {
             "colorbar": {
              "outlinewidth": 0,
              "ticks": ""
             }
            },
            "type": "scattergeo"
           }
          ],
          "scattergl": [
           {
            "marker": {
             "colorbar": {
              "outlinewidth": 0,
              "ticks": ""
             }
            },
            "type": "scattergl"
           }
          ],
          "scattermapbox": [
           {
            "marker": {
             "colorbar": {
              "outlinewidth": 0,
              "ticks": ""
             }
            },
            "type": "scattermapbox"
           }
          ],
          "scatterpolar": [
           {
            "marker": {
             "colorbar": {
              "outlinewidth": 0,
              "ticks": ""
             }
            },
            "type": "scatterpolar"
           }
          ],
          "scatterpolargl": [
           {
            "marker": {
             "colorbar": {
              "outlinewidth": 0,
              "ticks": ""
             }
            },
            "type": "scatterpolargl"
           }
          ],
          "scatterternary": [
           {
            "marker": {
             "colorbar": {
              "outlinewidth": 0,
              "ticks": ""
             }
            },
            "type": "scatterternary"
           }
          ],
          "surface": [
           {
            "colorbar": {
             "outlinewidth": 0,
             "ticks": ""
            },
            "colorscale": [
             [
              0,
              "#0d0887"
             ],
             [
              0.1111111111111111,
              "#46039f"
             ],
             [
              0.2222222222222222,
              "#7201a8"
             ],
             [
              0.3333333333333333,
              "#9c179e"
             ],
             [
              0.4444444444444444,
              "#bd3786"
             ],
             [
              0.5555555555555556,
              "#d8576b"
             ],
             [
              0.6666666666666666,
              "#ed7953"
             ],
             [
              0.7777777777777778,
              "#fb9f3a"
             ],
             [
              0.8888888888888888,
              "#fdca26"
             ],
             [
              1,
              "#f0f921"
             ]
            ],
            "type": "surface"
           }
          ],
          "table": [
           {
            "cells": {
             "fill": {
              "color": "#EBF0F8"
             },
             "line": {
              "color": "white"
             }
            },
            "header": {
             "fill": {
              "color": "#C8D4E3"
             },
             "line": {
              "color": "white"
             }
            },
            "type": "table"
           }
          ]
         },
         "layout": {
          "annotationdefaults": {
           "arrowcolor": "#2a3f5f",
           "arrowhead": 0,
           "arrowwidth": 1
          },
          "autotypenumbers": "strict",
          "coloraxis": {
           "colorbar": {
            "outlinewidth": 0,
            "ticks": ""
           }
          },
          "colorscale": {
           "diverging": [
            [
             0,
             "#8e0152"
            ],
            [
             0.1,
             "#c51b7d"
            ],
            [
             0.2,
             "#de77ae"
            ],
            [
             0.3,
             "#f1b6da"
            ],
            [
             0.4,
             "#fde0ef"
            ],
            [
             0.5,
             "#f7f7f7"
            ],
            [
             0.6,
             "#e6f5d0"
            ],
            [
             0.7,
             "#b8e186"
            ],
            [
             0.8,
             "#7fbc41"
            ],
            [
             0.9,
             "#4d9221"
            ],
            [
             1,
             "#276419"
            ]
           ],
           "sequential": [
            [
             0,
             "#0d0887"
            ],
            [
             0.1111111111111111,
             "#46039f"
            ],
            [
             0.2222222222222222,
             "#7201a8"
            ],
            [
             0.3333333333333333,
             "#9c179e"
            ],
            [
             0.4444444444444444,
             "#bd3786"
            ],
            [
             0.5555555555555556,
             "#d8576b"
            ],
            [
             0.6666666666666666,
             "#ed7953"
            ],
            [
             0.7777777777777778,
             "#fb9f3a"
            ],
            [
             0.8888888888888888,
             "#fdca26"
            ],
            [
             1,
             "#f0f921"
            ]
           ],
           "sequentialminus": [
            [
             0,
             "#0d0887"
            ],
            [
             0.1111111111111111,
             "#46039f"
            ],
            [
             0.2222222222222222,
             "#7201a8"
            ],
            [
             0.3333333333333333,
             "#9c179e"
            ],
            [
             0.4444444444444444,
             "#bd3786"
            ],
            [
             0.5555555555555556,
             "#d8576b"
            ],
            [
             0.6666666666666666,
             "#ed7953"
            ],
            [
             0.7777777777777778,
             "#fb9f3a"
            ],
            [
             0.8888888888888888,
             "#fdca26"
            ],
            [
             1,
             "#f0f921"
            ]
           ]
          },
          "colorway": [
           "#636efa",
           "#EF553B",
           "#00cc96",
           "#ab63fa",
           "#FFA15A",
           "#19d3f3",
           "#FF6692",
           "#B6E880",
           "#FF97FF",
           "#FECB52"
          ],
          "font": {
           "color": "#2a3f5f"
          },
          "geo": {
           "bgcolor": "white",
           "lakecolor": "white",
           "landcolor": "#E5ECF6",
           "showlakes": true,
           "showland": true,
           "subunitcolor": "white"
          },
          "hoverlabel": {
           "align": "left"
          },
          "hovermode": "closest",
          "mapbox": {
           "style": "light"
          },
          "paper_bgcolor": "white",
          "plot_bgcolor": "#E5ECF6",
          "polar": {
           "angularaxis": {
            "gridcolor": "white",
            "linecolor": "white",
            "ticks": ""
           },
           "bgcolor": "#E5ECF6",
           "radialaxis": {
            "gridcolor": "white",
            "linecolor": "white",
            "ticks": ""
           }
          },
          "scene": {
           "xaxis": {
            "backgroundcolor": "#E5ECF6",
            "gridcolor": "white",
            "gridwidth": 2,
            "linecolor": "white",
            "showbackground": true,
            "ticks": "",
            "zerolinecolor": "white"
           },
           "yaxis": {
            "backgroundcolor": "#E5ECF6",
            "gridcolor": "white",
            "gridwidth": 2,
            "linecolor": "white",
            "showbackground": true,
            "ticks": "",
            "zerolinecolor": "white"
           },
           "zaxis": {
            "backgroundcolor": "#E5ECF6",
            "gridcolor": "white",
            "gridwidth": 2,
            "linecolor": "white",
            "showbackground": true,
            "ticks": "",
            "zerolinecolor": "white"
           }
          },
          "shapedefaults": {
           "line": {
            "color": "#2a3f5f"
           }
          },
          "ternary": {
           "aaxis": {
            "gridcolor": "white",
            "linecolor": "white",
            "ticks": ""
           },
           "baxis": {
            "gridcolor": "white",
            "linecolor": "white",
            "ticks": ""
           },
           "bgcolor": "#E5ECF6",
           "caxis": {
            "gridcolor": "white",
            "linecolor": "white",
            "ticks": ""
           }
          },
          "title": {
           "x": 0.05
          },
          "xaxis": {
           "automargin": true,
           "gridcolor": "white",
           "linecolor": "white",
           "ticks": "",
           "title": {
            "standoff": 15
           },
           "zerolinecolor": "white",
           "zerolinewidth": 2
          },
          "yaxis": {
           "automargin": true,
           "gridcolor": "white",
           "linecolor": "white",
           "ticks": "",
           "title": {
            "standoff": 15
           },
           "zerolinecolor": "white",
           "zerolinewidth": 2
          }
         }
        },
        "xaxis": {
         "anchor": "y",
         "domain": [
          0,
          1
         ],
         "tickfont": {
          "size": 12
         },
         "tickformat": "%d/%m/%Y<br>%H:%M:%S",
         "title": {
          "text": "timestamp"
         }
        },
        "yaxis": {
         "anchor": "x",
         "domain": [
          0,
          1
         ],
         "title": {
          "text": "preco"
         }
        }
       }
      }
     },
     "metadata": {},
     "output_type": "display_data"
    }
   ],
   "source": [
    "\n",
    "fig = px.line(df_final, x='timestamp', y= 'preco')\n",
    "fig.update_xaxes(\n",
    "    tickformat='%d/%m/%Y<br>%H:%M:%S',\n",
    "    \n",
    "    tickfont=dict(size=12)\n",
    ")\n",
    "fig.show()\n"
   ]
  }
 ],
 "metadata": {
  "kernelspec": {
   "display_name": ".venv",
   "language": "python",
   "name": "python3"
  },
  "language_info": {
   "codemirror_mode": {
    "name": "ipython",
    "version": 3
   },
   "file_extension": ".py",
   "mimetype": "text/x-python",
   "name": "python",
   "nbconvert_exporter": "python",
   "pygments_lexer": "ipython3",
   "version": "3.8.3"
  },
  "orig_nbformat": 4
 },
 "nbformat": 4,
 "nbformat_minor": 2
}
